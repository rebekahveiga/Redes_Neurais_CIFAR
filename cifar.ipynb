{
 "cells": [
  {
   "cell_type": "markdown",
   "id": "f470c847",
   "metadata": {
    "id": "view-in-github",
    "papermill": {
     "duration": 0.002626,
     "end_time": "2022-08-09T15:12:48.888967",
     "exception": false,
     "start_time": "2022-08-09T15:12:48.886341",
     "status": "completed"
    },
    "tags": []
   },
   "source": [
    "<a href=\"https://colab.research.google.com/github/rebekahveiga/Redes_Neurais_CIFAR/blob/main/notebook_cifar_2022.ipynb\" target=\"_parent\"><img src=\"https://colab.research.google.com/assets/colab-badge.svg\" alt=\"Open In Colab\"/></a>"
   ]
  },
  {
   "cell_type": "code",
   "execution_count": 1,
   "id": "acdddc3f",
   "metadata": {
    "_cell_guid": "b1076dfc-b9ad-4769-8c92-a6c4dae69d19",
    "_uuid": "8f2839f25d086af736a60e9eeb907d3b93b6e0e5",
    "execution": {
     "iopub.execute_input": "2022-08-09T15:12:48.894254Z",
     "iopub.status.busy": "2022-08-09T15:12:48.893816Z",
     "iopub.status.idle": "2022-08-09T17:21:25.638819Z",
     "shell.execute_reply": "2022-08-09T17:21:25.637762Z"
    },
    "id": "0sQ7KB6ZQbch",
    "outputId": "b2ea9c8e-c0fb-40f4-80f7-080d7e0574ae",
    "papermill": {
     "duration": 7716.750568,
     "end_time": "2022-08-09T17:21:25.641259",
     "exception": false,
     "start_time": "2022-08-09T15:12:48.890691",
     "status": "completed"
    },
    "tags": []
   },
   "outputs": [
    {
     "name": "stdout",
     "output_type": "stream",
     "text": [
      "Downloading data from https://www.cs.toronto.edu/~kriz/cifar-10-python.tar.gz\n",
      "170500096/170498071 [==============================] - 11s 0us/step\n",
      "170508288/170498071 [==============================] - 11s 0us/step\n"
     ]
    },
    {
     "name": "stderr",
     "output_type": "stream",
     "text": [
      "2022-08-09 15:13:08.811512: I tensorflow/core/common_runtime/process_util.cc:146] Creating new thread pool with default inter op setting: 2. Tune using inter_op_parallelism_threads for best performance.\n",
      "2022-08-09 15:13:10.896488: I tensorflow/compiler/mlir/mlir_graph_optimization_pass.cc:185] None of the MLIR Optimization Passes are enabled (registered 2)\n"
     ]
    },
    {
     "name": "stdout",
     "output_type": "stream",
     "text": [
      "Epoch 1/15\n",
      "1563/1563 [==============================] - 531s 339ms/step - loss: 1.5311 - accuracy: 0.4581 - val_loss: 1.3469 - val_accuracy: 0.5251\n",
      "Epoch 2/15\n",
      "1563/1563 [==============================] - 530s 339ms/step - loss: 1.1992 - accuracy: 0.5767 - val_loss: 1.1880 - val_accuracy: 0.5816\n",
      "Epoch 3/15\n",
      "1563/1563 [==============================] - 526s 337ms/step - loss: 1.0633 - accuracy: 0.6289 - val_loss: 1.1306 - val_accuracy: 0.6054\n",
      "Epoch 4/15\n",
      "1563/1563 [==============================] - 516s 330ms/step - loss: 0.9642 - accuracy: 0.6664 - val_loss: 1.0939 - val_accuracy: 0.6157\n",
      "Epoch 5/15\n",
      "1563/1563 [==============================] - 500s 320ms/step - loss: 0.8824 - accuracy: 0.6944 - val_loss: 1.0844 - val_accuracy: 0.6261\n",
      "Epoch 6/15\n",
      "1563/1563 [==============================] - 503s 322ms/step - loss: 0.8149 - accuracy: 0.7201 - val_loss: 1.0616 - val_accuracy: 0.6397\n",
      "Epoch 7/15\n",
      "1563/1563 [==============================] - 498s 319ms/step - loss: 0.7593 - accuracy: 0.7408 - val_loss: 1.0972 - val_accuracy: 0.6286\n",
      "Epoch 8/15\n",
      "1563/1563 [==============================] - 502s 321ms/step - loss: 0.7105 - accuracy: 0.7554 - val_loss: 1.0839 - val_accuracy: 0.6381\n",
      "Epoch 9/15\n",
      "1563/1563 [==============================] - 510s 326ms/step - loss: 0.6675 - accuracy: 0.7729 - val_loss: 1.0677 - val_accuracy: 0.6453\n",
      "Epoch 10/15\n",
      "1563/1563 [==============================] - 514s 329ms/step - loss: 0.6304 - accuracy: 0.7864 - val_loss: 1.0961 - val_accuracy: 0.6419\n",
      "Epoch 11/15\n",
      "1563/1563 [==============================] - 511s 327ms/step - loss: 0.5934 - accuracy: 0.7992 - val_loss: 1.1130 - val_accuracy: 0.6399\n",
      "Epoch 12/15\n",
      "1563/1563 [==============================] - 505s 323ms/step - loss: 0.5616 - accuracy: 0.8108 - val_loss: 1.1299 - val_accuracy: 0.6377\n",
      "Epoch 13/15\n",
      "1563/1563 [==============================] - 506s 324ms/step - loss: 0.5312 - accuracy: 0.8224 - val_loss: 1.1400 - val_accuracy: 0.6392\n",
      "Epoch 14/15\n",
      "1563/1563 [==============================] - 506s 324ms/step - loss: 0.5020 - accuracy: 0.8347 - val_loss: 1.1554 - val_accuracy: 0.6443\n",
      "Epoch 15/15\n",
      "1563/1563 [==============================] - 506s 324ms/step - loss: 0.4760 - accuracy: 0.8426 - val_loss: 1.1874 - val_accuracy: 0.6388\n",
      "Accuracy: 63.88%\n"
     ]
    }
   ],
   "source": [
    "# This Python 3 environment comes with many helpful analytics libraries installed\n",
    "# It is defined by the kaggle/python Docker image: https://github.com/kaggle/docker-python\n",
    "# For example, here's several helpful packages to load\n",
    "\n",
    "import numpy as np # linear algebra\n",
    "import pandas as pd # data processing, CSV file I/O (e.g. pd.read_csv)\n",
    "\n",
    "# Input data files are available in the read-only \"../input/\" directory\n",
    "# For example, running this (by clicking run or pressing Shift+Enter) will list all files under the input directory\n",
    "\n",
    "import os\n",
    "for dirname, _, filenames in os.walk('/kaggle/input'):\n",
    "    for filename in filenames:\n",
    "        print(os.path.join(dirname, filename))\n",
    "\n",
    "# You can write up to 20GB to the current directory (/kaggle/working/) that gets preserved as output when you create a version using \"Save & Run All\" \n",
    "# You can also write temporary files to /kaggle/temp/, but they won't be saved outside of the current session\n",
    "\n",
    "from keras.datasets import cifar10\n",
    "(X_train, y_train), (X_test, y_test) = cifar10.load_data()\n",
    "\n",
    "X_train = X_train.astype('float32')\n",
    "X_test = X_test.astype('float32')\n",
    "X_train = X_train / 255.0\n",
    "X_test = X_test / 255.0\n",
    "\n",
    "from keras.utils import np_utils\n",
    "y_train = np_utils.to_categorical(y_train)\n",
    "y_test = np_utils.to_categorical(y_test)\n",
    "\n",
    "from keras.layers import Input\n",
    "input_img = Input(shape = (32, 32, 3))\n",
    "\n",
    "from keras.layers import Conv2D, MaxPooling2D\n",
    "tower_1 = Conv2D(64, (1,1), padding='same', activation='relu')(input_img)\n",
    "tower_1 = Conv2D(64, (3,3), padding='same', activation='relu')(tower_1)\n",
    "tower_2 = Conv2D(64, (1,1), padding='same', activation='relu')(input_img)\n",
    "tower_2 = Conv2D(64, (5,5), padding='same', activation='relu')(tower_2)\n",
    "tower_3 = MaxPooling2D((3,3), strides=(1,1), padding='same')(input_img)\n",
    "tower_3 = Conv2D(64, (1,1), padding='same', activation='relu')(tower_3)\n",
    "\n",
    "from keras.layers import concatenate\n",
    "\n",
    "output = concatenate([tower_1, tower_2, tower_3], axis = 3)\n",
    "\n",
    "from keras.layers import Flatten, Dense\n",
    "output = Flatten()(output)\n",
    "out    = Dense(10, activation='softmax')(output)\n",
    "\n",
    "from keras.models import Model\n",
    "model = Model(inputs = input_img, outputs = out)\n",
    "# print model.summary()\n",
    "\n",
    "from tensorflow.keras.optimizers import SGD\n",
    "epochs = 15\n",
    "lrate = 0.01\n",
    "decay = lrate/epochs\n",
    "sgd = SGD(learning_rate=lrate, momentum=0.9, decay=decay, nesterov=False)\n",
    "model.compile(loss='categorical_crossentropy', optimizer=sgd, metrics=['accuracy'])\n",
    "model.fit(X_train, y_train, validation_data=(X_test, y_test), epochs=epochs, batch_size=32)\n",
    "\n",
    "from keras.models import model_from_json\n",
    "import os\n",
    "model_json = model.to_json()\n",
    "with open(\"model.json\", \"w\") as json_file:\n",
    "    json_file.write(model_json)\n",
    "model.save_weights(os.path.join(os.getcwd(), 'model.h5'))\n",
    "\n",
    "scores = model.evaluate(X_test, y_test, verbose=0)\n",
    "print(\"Accuracy: %.2f%%\" % (scores[1]*100))"
   ]
  }
 ],
 "metadata": {
  "kernelspec": {
   "display_name": "Python 3",
   "language": "python",
   "name": "python3"
  },
  "language_info": {
   "codemirror_mode": {
    "name": "ipython",
    "version": 3
   },
   "file_extension": ".py",
   "mimetype": "text/x-python",
   "name": "python",
   "nbconvert_exporter": "python",
   "pygments_lexer": "ipython3",
   "version": "3.7.12"
  },
  "papermill": {
   "default_parameters": {},
   "duration": 7729.913012,
   "end_time": "2022-08-09T17:21:29.814075",
   "environment_variables": {},
   "exception": null,
   "input_path": "__notebook__.ipynb",
   "output_path": "__notebook__.ipynb",
   "parameters": {},
   "start_time": "2022-08-09T15:12:39.901063",
   "version": "2.3.4"
  }
 },
 "nbformat": 4,
 "nbformat_minor": 5
}
